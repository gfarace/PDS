{
 "cells": [
  {
   "cell_type": "markdown",
   "metadata": {},
   "source": [
    "<img src=\"./logo_UTN.svg\" align=\"right\" width=\"150\" /> \n",
    "#### Procesamiento Digital de Señales\n",
    "\n",
    "# Tarea Semanal Nº7\n",
    "#### Gisela Farace"
   ]
  },
  {
   "cell_type": "markdown",
   "metadata": {},
   "source": [
    "## Consigna\n",
    "\n",
    "#### Estimación espectral. Ventanas en acción! <br>\n",
    " \n",
    "En esta tarea continuaremos con el capítulo 14 de Holton. DSP Principles and App.\n",
    "\n",
    "1) Genere la siguiente señal\n",
    "\n",
    "$x(k)=a_{0}.sen(\\Omega_{1}.k)$\n",
    "\n",
    "siendo\n",
    "\n",
    "$a_{0}=2$\n",
    "\n",
    "$\\Omega_{1}=\\Omega_{0}+f_{r}.\\frac{2\\pi}{N}$\n",
    "\n",
    "$\\Omega_{0}=\\frac{\\pi}{2}$\n",
    "\n",
    "y la variable aleatoria definida por la siguiente distribución de probabilidad\n",
    "\n",
    "$f_{r}\\sim U(-2,2)$\n",
    "\n",
    "Considere 200 realizaciones (muestras tomadas de $f_{r}$) para cada ventana analizada en la TS6. Se pide entonces:\n",
    "\n",
    "a) Grafique los histogramas de\n",
    "\n",
    "$|X_{i}^{w}(\\Omega_{0})|$\n",
    "\n",
    "siendo\n",
    "\n",
    "$|X_{i}^{w}(\\Omega)|=|F{x(k).w_{i}(k)}|$\n",
    "\n",
    "para la i-ésima ventana de las 5 utilizadas en la TS6. El sesgo y la varianza se definen para este caso como:\n",
    "\n",
    "b) Calcule experimentalmente el sesgo y la varianza del siguiente estimador:\n",
    "\n",
    "$\\hat{a}_{0}=|X_{i}^{w}(\\Omega_{0})|$\n",
    "\n",
    "siendo\n",
    "\n",
    "$s_{a}=E\\{\\hat{a}_{0}\\}−a_{0}$\n",
    "\n",
    "$v_{a}=var\\{\\hat{a}_{0}\\}=E\\{(\\hat{a}_{0}-E\\{\\hat{a}_{0}\\})^{2}\\}$\n",
    "\n",
    "y pueden aproximarse cuando consideramos los valores esperados como las medias muestrales\n",
    "\n",
    "$E\\{\\hat{a}_{0}\\}=\\hat{\\mu_{a}}=\\frac{1}{M}\\sum_{j=0}^{M-1}\\hat{a}_{j}$\n",
    "\n",
    "$s_{a}=\\hat{\\mu_{a}}-a_{0}$\n",
    "\n",
    "$v_{a}=\\frac{1}{M}\\sum_{j=0}^{M-1}(\\hat{a}_{j}-\\hat{\\mu_{a}})^{2}$"
   ]
  },
  {
   "cell_type": "markdown",
   "metadata": {},
   "source": [
    "## Código"
   ]
  },
  {
   "cell_type": "markdown",
   "metadata": {},
   "source": [
    "#### Importación de librerias"
   ]
  },
  {
   "cell_type": "code",
   "execution_count": 1,
   "metadata": {},
   "outputs": [],
   "source": [
    "# Importación de módulos para Jupyter\n",
    "\n",
    "import numpy as np\n",
    "import matplotlib as mpl\n",
    "import matplotlib.pyplot as plt\n",
    "import scipy.signal as sig\n",
    "import scipy.signal.windows as wind\n",
    "\n",
    "# Para la tabla\n",
    "from pandas import DataFrame\n",
    "from IPython.display import HTML\n",
    "\n",
    "#Presentación de los gŕaficos\n",
    "mpl.rcParams['figure.figsize'] = (17,5)\n",
    "fig_sz_x = 14\n",
    "fig_sz_y = 13\n",
    "fig_dpi = 80 # dpi\n",
    "\n",
    "fig_font_family = 'Ubuntu'\n",
    "fig_font_size = 16\n",
    "\n",
    "plt.rcParams.update({'font.size':fig_font_size})\n",
    "plt.rcParams.update({'font.family':fig_font_family})"
   ]
  },
  {
   "cell_type": "markdown",
   "metadata": {},
   "source": [
    "### Ventanas"
   ]
  },
  {
   "cell_type": "code",
   "execution_count": 5,
   "metadata": {
    "scrolled": false
   },
   "outputs": [
    {
     "data": {
      "text/plain": [
       "Text(0, 0.5, '$|X(\\\\Omega)|$')"
      ]
     },
     "execution_count": 5,
     "metadata": {},
     "output_type": "execute_result"
    },
    {
     "data": {
      "image/png": "[encoded data removed]",
      "text/plain": [
       "<Figure size 1224x360 with 1 Axes>"
      ]
     },
     "metadata": {
      "needs_background": "light"
     },
     "output_type": "display_data"
    }
   ],
   "source": [
    "#Senoidal\n",
    "#x(k)=a0⋅sen(Ω1⋅k)\n",
    "#a0=2\n",
    "#Ω1=Ω0+fr⋅2πN\n",
    "#Ω0=π2\n",
    "\n",
    "a0 = 2\n",
    "M = 200\n",
    "dc = 0\n",
    "ph = 0\n",
    "N = 1000  # cantidad de muestras\n",
    "fs = 1000 # frecuencia de muestreo (Hz)\n",
    "df = fs/N # resolución espectral\n",
    "\n",
    "# distribución uniforme\n",
    "fr = np.random.uniform(low=-2, high=2, size=M)\n",
    "\n",
    "ff = (np.pi/2 + fr*(2*np.pi/N))*(fs/(2*np.pi))\n",
    "tt = np.linspace(0, (N-1), N) * (1/fs)\n",
    "\n",
    "#np.outer(a,b): Compute the outer product of two vectors.\n",
    "x = a0*np.sin(2*np.pi*np.outer(tt, ff))\n",
    "\n",
    "# Multiplico la señal por cada ventanas\n",
    "s_rec = x*np.array(wind.boxcar(N)).reshape(N,1)\n",
    "s_bar = x*np.array(wind.bartlett(N)).reshape(N,1)\n",
    "s_han = x*np.array(wind.hann(N)).reshape(N,1)\n",
    "s_bm = x*np.array(wind.blackman(N)).reshape(N,1)\n",
    "s_ft = x*np.array(wind.flattop(N)).reshape(N,1)\n",
    "\n",
    "# Transformada\n",
    "fft_rec = np.fft.fft(s_rec, n = N, axis = 0)*(1/N)\n",
    "fft_bar = np.fft.fft(s_bar, n = N, axis = 0)*(1/N)\n",
    "fft_han = np.fft.fft(s_han, n = N, axis = 0)*(1/N)\n",
    "fft_bm = np.fft.fft(s_bm, n = N, axis = 0)*(1/N)\n",
    "fft_ft = np.fft.fft(s_ft, n = N, axis = 0)*(1/N)\n",
    "\n",
    "frec = np.fft.fftfreq(N, d=1/fs)\n",
    "\n",
    "#Estimadores (â)\n",
    "rec_h = np.abs(fft_rec[frec == 250,:]).flatten()\n",
    "bar_h = np.abs(fft_bar[frec == 250,:]).flatten()\n",
    "han_h = np.abs(fft_han[frec == 250,:]).flatten()\n",
    "bm_h = np.abs(fft_bm[frec == 250,:]).flatten()\n",
    "ft_h = np.abs(fft_ft[frec == 250,:]).flatten()\n",
    "\n",
    "# Histogramas\n",
    "\n",
    "plt.hist(rec_h, bins=20)\n",
    "plt.hist(bar_h, bins=20)\n",
    "plt.hist(han_h, bins=20)\n",
    "plt.hist(bm_h, bins=20)\n",
    "plt.hist(ft_h, bins=20)\n",
    "\n",
    "plt.title('Histograma para distintas ventanas')\n",
    "plt.legend(['Rectangular','Bartlett','Hann','Blackman','Flattop'])\n",
    "plt.xlabel('Frecuencia (Hz)')\n",
    "plt.ylabel('$|X(\\Omega)|$')"
   ]
  },
  {
   "cell_type": "code",
   "execution_count": 8,
   "metadata": {},
   "outputs": [
    {
     "data": {
      "text/html": [
       "<table border=\"1\" class=\"dataframe\">\n",
       "  <thead>\n",
       "    <tr style=\"text-align: right;\">\n",
       "      <th></th>\n",
       "      <th>$s_a$</th>\n",
       "      <th>$v_a$</th>\n",
       "    </tr>\n",
       "  </thead>\n",
       "  <tbody>\n",
       "    <tr>\n",
       "      <th>Rectangular</th>\n",
       "      <td>-1.606443</td>\n",
       "      <td>0.112767</td>\n",
       "    </tr>\n",
       "    <tr>\n",
       "      <th>Bartlett</th>\n",
       "      <td>-1.757230</td>\n",
       "      <td>0.032779</td>\n",
       "    </tr>\n",
       "    <tr>\n",
       "      <th>Hann</th>\n",
       "      <td>-1.730624</td>\n",
       "      <td>0.029779</td>\n",
       "    </tr>\n",
       "    <tr>\n",
       "      <th>Blackman</th>\n",
       "      <td>-1.743537</td>\n",
       "      <td>0.016141</td>\n",
       "    </tr>\n",
       "    <tr>\n",
       "      <th>Flat-top</th>\n",
       "      <td>-1.801247</td>\n",
       "      <td>0.000463</td>\n",
       "    </tr>\n",
       "  </tbody>\n",
       "</table>"
      ],
      "text/plain": [
       "<IPython.core.display.HTML object>"
      ]
     },
     "execution_count": 8,
     "metadata": {},
     "output_type": "execute_result"
    }
   ],
   "source": [
    "# Calculo de sesgo y varianza\n",
    "\n",
    "# media muestral: mu_a = 1/M.SUM{â_j} de 0 a M-1\n",
    "E_rec = (1/M)*sum(rec_h)\n",
    "E_bar = (1/M)*sum(bar_h)\n",
    "E_han = (1/M)*sum(han_h)\n",
    "E_bm = (1/M)*sum(bm_h)\n",
    "E_ft = (1/M)*sum(ft_h)\n",
    "\n",
    "#Sesgo: s = mu - a0\n",
    "s_rec = E_rec - a0\n",
    "s_bar = E_bar - a0\n",
    "s_han = E_han - a0\n",
    "s_bm = E_bm - a0\n",
    "s_ft = E_ft - a0\n",
    "\n",
    "# Varianza:\n",
    "v_rec = np.var(rec_h)\n",
    "v_bar = np.var(bar_h)\n",
    "v_han = np.var(han_h)\n",
    "v_bm = np.var(bm_h)\n",
    "v_ft = np.var(ft_h)\n",
    "\n",
    "data = [[s_rec, v_rec],\n",
    "        [s_bar, v_bar],\n",
    "        [s_han, v_han],\n",
    "        [s_bm, v_bm],\n",
    "        [s_ft, v_ft]]\n",
    "\n",
    "df = DataFrame(data,columns=['$s_a$', '$v_a$'],\n",
    "                index=[  \n",
    "                        'Rectangular',\n",
    "                        'Bartlett',\n",
    "                        'Hann',\n",
    "                        'Blackman',\n",
    "                        'Flat-top'\n",
    "                      ])\n",
    "HTML(df.to_html())\n"
   ]
  }
 ],
 "metadata": {
  "interpreter": {
   "hash": "916dbcbb3f70747c44a77c7bcd40155683ae19c65e1c03b4aa3499c5328201f1"
  },
  "kernelspec": {
   "display_name": "Python 3 (ipykernel)",
   "language": "python",
   "name": "python3"
  },
  "language_info": {
   "codemirror_mode": {
    "name": "ipython",
    "version": 3
   },
   "file_extension": ".py",
   "mimetype": "text/x-python",
   "name": "python",
   "nbconvert_exporter": "python",
   "pygments_lexer": "ipython3",
   "version": "3.8.10"
  }
 },
 "nbformat": 4,
 "nbformat_minor": 2
}
